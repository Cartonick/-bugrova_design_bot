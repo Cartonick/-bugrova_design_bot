{
 "cells": [
  {
   "cell_type": "code",
   "execution_count": null,
   "id": "17845901-8626-41ba-acb3-6c63b8473f12",
   "metadata": {},
   "outputs": [],
   "source": [
    "!pip install python-telegram-bot\n"
   ]
  },
  {
   "cell_type": "code",
   "execution_count": null,
   "id": "05cb0310-7ba9-429b-942c-f997a5f641c7",
   "metadata": {},
   "outputs": [],
   "source": [
    "import nest_asyncio\n",
    "import asyncio\n",
    "from telegram import Update\n",
    "from telegram.ext import ApplicationBuilder, CommandHandler, ContextTypes\n",
    "\n",
    "# Применение nest_asyncio\n",
    "nest_asyncio.apply()\n",
    "\n",
    "# Замените 'YOUR_TOKEN' на токен вашего бота\n",
    "TOKEN = '7697308026:AAHn9mxHqzOwRFFlZN_JAzCCTwZLPhCVHNk'\n",
    "\n",
    "async def start(update: Update, context: ContextTypes.DEFAULT_TYPE) -> None:\n",
    "    await update.message.reply_text(\n",
    "        \"Хотите просмотреть мои проекты - в меню нажмите Instagram 👀\\n\"\n",
    "        \"А если уже готовы начать знакомство, то нажмите Telefon 👋\"\n",
    "    )\n",
    "\n",
    "async def instagram(update: Update, context: ContextTypes.DEFAULT_TYPE) -> None:\n",
    "    await update.message.reply_text('Заходите на мою страничку, там можно посмотреть мои проекты и много чего ещё интересного: https://www.instagram.com/bugrova_design?igsh=MWM2YWQ5amU3c290cQ==')\n",
    "\n",
    "async def telefon(update: Update, context: ContextTypes.DEFAULT_TYPE) -> None:\n",
    "    await update.message.reply_text('Отлично! Этой мой личный telegtam @bugrova_design - пишите, с удовольствием, обсудим ваш будущий идеальный интерьер!')\n",
    "\n",
    "async def main() -> None:\n",
    "    app = ApplicationBuilder().token(TOKEN).build()\n",
    "\n",
    "    app.add_handler(CommandHandler(\"start\", start))\n",
    "    app.add_handler(CommandHandler(\"instagram\", instagram))\n",
    "    app.add_handler(CommandHandler(\"telefon\", telefon))\n",
    "\n",
    "    # Запуск бота\n",
    "    await app.run_polling()\n",
    "\n",
    "# Проверка на запуск скрипта\n",
    "if __name__ == '__main__':\n",
    "    asyncio.run(main())"
   ]
  },
  {
   "cell_type": "code",
   "execution_count": null,
   "id": "11ad680c-2097-4568-9d20-9255bed39f24",
   "metadata": {},
   "outputs": [],
   "source": []
  },
  {
   "cell_type": "code",
   "execution_count": null,
   "id": "c7c55bf0-3baa-4762-9d16-549aa765a341",
   "metadata": {},
   "outputs": [],
   "source": []
  }
 ],
 "metadata": {
  "kernelspec": {
   "display_name": "Python 3 (ipykernel)",
   "language": "python",
   "name": "python3"
  },
  "language_info": {
   "codemirror_mode": {
    "name": "ipython",
    "version": 3
   },
   "file_extension": ".py",
   "mimetype": "text/x-python",
   "name": "python",
   "nbconvert_exporter": "python",
   "pygments_lexer": "ipython3",
   "version": "3.12.4"
  }
 },
 "nbformat": 4,
 "nbformat_minor": 5
}
